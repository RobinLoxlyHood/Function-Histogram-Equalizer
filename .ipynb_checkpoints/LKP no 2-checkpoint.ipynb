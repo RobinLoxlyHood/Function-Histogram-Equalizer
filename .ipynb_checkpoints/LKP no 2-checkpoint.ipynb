{
 "cells": [
  {
   "cell_type": "markdown",
   "id": "46c13c6e",
   "metadata": {},
   "source": [
    "# Membuat Function Image Histogram Equalization"
   ]
  },
  {
   "cell_type": "code",
   "execution_count": 1,
   "id": "aa29c27a",
   "metadata": {},
   "outputs": [],
   "source": [
    "import numpy as np\n",
    "import cv2 as cv\n",
    "from matplotlib import pyplot as plt"
   ]
  },
  {
   "cell_type": "code",
   "execution_count": 2,
   "id": "e32ea9df",
   "metadata": {},
   "outputs": [],
   "source": [
    "#membaca image\n",
    "img = cv.imread('SutanSjahrir.jpg')"
   ]
  },
  {
   "cell_type": "code",
   "execution_count": 3,
   "id": "091c4552",
   "metadata": {},
   "outputs": [
    {
     "data": {
      "text/plain": [
       "(array([  238.,   974.,  5114.,  9577.,  9663.,  8087.,  7369.,  6880.,\n",
       "         6524.,  6096.,  7091.,  5804.,  6265.,  6413.,  6659.,  6930.,\n",
       "         7350.,  8099.,  8319.,  8376., 10608.,  9078.,  9519., 10104.,\n",
       "        11109., 13447., 13466., 14173., 19597., 21202., 23235., 23777.,\n",
       "        21811., 22856., 23503., 18160., 14160., 11142.,  6907.,  5135.,\n",
       "         5093.,  3206.,  2712.,  2207.,  1913.,  1819.,  1592.,  1456.,\n",
       "         1228.,  1277.]),\n",
       " array([  0. ,   5.1,  10.2,  15.3,  20.4,  25.5,  30.6,  35.7,  40.8,\n",
       "         45.9,  51. ,  56.1,  61.2,  66.3,  71.4,  76.5,  81.6,  86.7,\n",
       "         91.8,  96.9, 102. , 107.1, 112.2, 117.3, 122.4, 127.5, 132.6,\n",
       "        137.7, 142.8, 147.9, 153. , 158.1, 163.2, 168.3, 173.4, 178.5,\n",
       "        183.6, 188.7, 193.8, 198.9, 204. , 209.1, 214.2, 219.3, 224.4,\n",
       "        229.5, 234.6, 239.7, 244.8, 249.9, 255. ]),\n",
       " <BarContainer object of 50 artists>)"
      ]
     },
     "execution_count": 3,
     "metadata": {},
     "output_type": "execute_result"
    },
    {
     "data": {
      "image/png": "[encoded data removed]",
      "text/plain": [
       "<Figure size 432x288 with 1 Axes>"
      ]
     },
     "metadata": {
      "needs_background": "light"
     },
     "output_type": "display_data"
    }
   ],
   "source": [
    "# convert our image into a numpy array\n",
    "img = np.asarray(img)\n",
    "\n",
    "# put pixels in a 1D array by flattening out img array\n",
    "flat = img.flatten()\n",
    "\n",
    "# show the histogram\n",
    "plt.hist(flat, bins=50)"
   ]
  },
  {
   "cell_type": "code",
   "execution_count": 4,
   "id": "2d723ffa",
   "metadata": {},
   "outputs": [],
   "source": [
    "def myEqualizeHist(img):\n",
    "    hist,bins = np.histogram(img.flatten(),256,[0,255])\n",
    "    cdf = hist.cumsum()\n",
    "    cdf_m = np.ma.masked_equal(cdf,0)\n",
    "    cdf_m = (cdf_m - cdf_m.min())*255/(cdf_m.max()-cdf_m.min())\n",
    "    cdf = np.ma.filled(cdf_m,0).astype('uint8')\n",
    "    img = cdf[img]\n",
    "    return img"
   ]
  },
  {
   "cell_type": "code",
   "execution_count": 5,
   "id": "77ad2b4f",
   "metadata": {},
   "outputs": [],
   "source": [
    "img2=myEqualizeHist(img)\n",
    "cv.imshow('img1',img)\n",
    "cv.imshow('img2',img2)\n",
    "cv.waitKey(0)\n",
    "cv.destroyAllWindows()"
   ]
  },
  {
   "cell_type": "code",
   "execution_count": 6,
   "id": "d96b3118",
   "metadata": {},
   "outputs": [
    {
     "data": {
      "text/plain": [
       "True"
      ]
     },
     "execution_count": 6,
     "metadata": {},
     "output_type": "execute_result"
    }
   ],
   "source": [
    "cv.imwrite('sesudah histogram.jpg',img2)"
   ]
  },
  {
   "cell_type": "code",
   "execution_count": null,
   "id": "97ad589a",
   "metadata": {},
   "outputs": [],
   "source": []
  }
 ],
 "metadata": {
  "kernelspec": {
   "display_name": "imageprocessing",
   "language": "python",
   "name": "imageprocessing"
  },
  "language_info": {
   "codemirror_mode": {
    "name": "ipython",
    "version": 3
   },
   "file_extension": ".py",
   "mimetype": "text/x-python",
   "name": "python",
   "nbconvert_exporter": "python",
   "pygments_lexer": "ipython3",
   "version": "3.7.5"
  }
 },
 "nbformat": 4,
 "nbformat_minor": 5
}
